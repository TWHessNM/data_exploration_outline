{
  "cells": [
    {
      "cell_type": "markdown",
      "metadata": {
        "id": "view-in-github",
        "colab_type": "text"
      },
      "source": [
        "<a href=\"https://colab.research.google.com/github/TWHessNM/data_exploration_outline/blob/main/Radical%20Template.ipynb\" target=\"_parent\"><img src=\"https://colab.research.google.com/assets/colab-badge.svg\" alt=\"Open In Colab\"/></a>"
      ]
    },
    {
      "cell_type": "markdown",
      "metadata": {
        "id": "BkXXVxZtmP6P"
      },
      "source": [
        "# Project *Insert* Data Analysis"
      ]
    },
    {
      "cell_type": "markdown",
      "metadata": {
        "id": "uRgFYUiXnT0x"
      },
      "source": [
        "### Problem Definition\n"
      ]
    },
    {
      "cell_type": "markdown",
      "metadata": {
        "id": "smeL0hglo_rA"
      },
      "source": [
        "# The Data \n",
        "\n"
      ]
    },
    {
      "cell_type": "markdown",
      "metadata": {
        "id": "TaOK2JzgmmTe"
      },
      "source": [
        "## IDE\n",
        "A variety of exploratory analysis tools such as .info() , .keys() .shape etc"
      ]
    },
    {
      "cell_type": "markdown",
      "metadata": {
        "id": "1NvvBc3NygLQ"
      },
      "source": [
        "*Talk about the initial, unaltered data*"
      ]
    },
    {
      "cell_type": "markdown",
      "metadata": {
        "id": "uiyMdYDFQZDI"
      },
      "source": [
        "### Collection/Source\n",
        "Note where the data was collected from and any methods of collecting data that is known"
      ]
    },
    {
      "cell_type": "markdown",
      "metadata": {
        "id": "Jqv6aOpf_ru5"
      },
      "source": [
        "### Feature Dictionary\n",
        "create a table of the definition of each feature that is known. If unknown note that also."
      ]
    },
    {
      "cell_type": "markdown",
      "metadata": {
        "id": "Oj8rNleGdHzC"
      },
      "source": [
        "###Data Overview\n",
        "\n",
        "EX: This data has 1 target column and 49 features. Each feature is anonymous and has no context other then it relates to the target.\n",
        "\n",
        "The data set has 18000 observations."
      ]
    },
    {
      "cell_type": "markdown",
      "metadata": {
        "id": "RDrQ0ltgqUJO"
      },
      "source": [
        "### Imports"
      ]
    },
    {
      "cell_type": "code",
      "execution_count": null,
      "metadata": {
        "id": "_EdhKufHqZcH"
      },
      "outputs": [],
      "source": [
        "import sklearn\n",
        "import numpy as np\n",
        "import pandas as pd\n",
        "import seaborn as sns\n",
        "import matplotlib.pyplot as plt"
      ]
    },
    {
      "cell_type": "markdown",
      "metadata": {
        "id": "aFIMIYCsBqYA"
      },
      "source": [
        "###Mark's Radical Functions"
      ]
    },
    {
      "cell_type": "code",
      "execution_count": null,
      "metadata": {
        "id": "_CL0_oG0B0VF"
      },
      "outputs": [],
      "source": [
        "def show_me(money):\n",
        "  \"\"\"Displays info, describe, head, and tail\n",
        "  \n",
        "Money in the bank,\n",
        "Show me the stats and details,\n",
        "Info, head, tail, done.\"\"\"\n",
        "  print('Info')  \n",
        "  print(money.info())\n",
        "  print('\\n')\n",
        "  print('\\n')\n",
        "  print('Shape')\n",
        "  print(money.shape())\n",
        "  print('\\n')\n",
        "  print('\\n')\n",
        "  print('Described')\n",
        "  print(money.describe().T)\n",
        "  print('\\n')\n",
        "  print('\\n')\n",
        "  print('Head')\n",
        "  print(money.head().T)\n",
        "  print('\\n')\n",
        "  print('\\n')\n",
        "  print('Tail')\n",
        "  print(money.tail().T)"
      ]
    },
    {
      "cell_type": "code",
      "execution_count": null,
      "metadata": {
        "id": "531xTWLiB9nJ"
      },
      "outputs": [],
      "source": [
        "def count_nulls(data):\n",
        "    \"\"\"Checks for null values and displays only nulls\n",
        "    \n",
        "Null values abound,\n",
        "Display them with a function,\n",
        "Data cleaning done.\"\"\"\n",
        "    temp = data.isna().sum()\n",
        "    filter = temp > 0\n",
        "    print(data.shape)\n",
        "    print(temp[filter])"
      ]
    },
    {
      "cell_type": "code",
      "execution_count": null,
      "metadata": {
        "id": "7pdHfRT5Cg_y"
      },
      "outputs": [],
      "source": [
        "show_me?"
      ]
    },
    {
      "cell_type": "markdown",
      "metadata": {
        "id": "fi-OHnfmwbrL"
      },
      "source": [
        "###Load Data"
      ]
    },
    {
      "cell_type": "code",
      "execution_count": null,
      "metadata": {
        "id": "z2heAMCylvQ3"
      },
      "outputs": [],
      "source": [
        "from google.colab import drive\n",
        "drive.mount('/content/drive')"
      ]
    },
    {
      "cell_type": "markdown",
      "metadata": {
        "id": "fJ1YnKUvvHCC"
      },
      "source": [
        "###File Paths\n",
        "\n",
        "This file path is for test and training data."
      ]
    },
    {
      "cell_type": "code",
      "execution_count": null,
      "metadata": {
        "id": "TxZ2lCLmuirD"
      },
      "outputs": [],
      "source": [
        "train_path = '/content/drive/MyDrive/Data_Science_Bootcamp/Projects/Project_1/Data/Train.csv'"
      ]
    },
    {
      "cell_type": "markdown",
      "metadata": {
        "id": "HxE3Vnz1WIyr"
      },
      "source": [
        "Rename the data from train if it will help clarify the dataset. "
      ]
    },
    {
      "cell_type": "code",
      "execution_count": null,
      "metadata": {
        "colab": {
          "base_uri": "https://localhost:8080/",
          "height": 314
        },
        "id": "NQdYBt9Zwa94",
        "outputId": "341db9de-425c-4d5a-9326-8e5afbde8f00"
      },
      "outputs": [
        {
          "data": {
            "text/html": [
              "\n",
              "  <div id=\"df-89eba40e-27f7-4e62-bf3c-cf706c883257\">\n",
              "    <div class=\"colab-df-container\">\n",
              "      <div>\n",
              "<style scoped>\n",
              "    .dataframe tbody tr th:only-of-type {\n",
              "        vertical-align: middle;\n",
              "    }\n",
              "\n",
              "    .dataframe tbody tr th {\n",
              "        vertical-align: top;\n",
              "    }\n",
              "\n",
              "    .dataframe thead th {\n",
              "        text-align: right;\n",
              "    }\n",
              "</style>\n",
              "<table border=\"1\" class=\"dataframe\">\n",
              "  <thead>\n",
              "    <tr style=\"text-align: right;\">\n",
              "      <th></th>\n",
              "      <th>Unnamed: 0</th>\n",
              "      <th>ID_code</th>\n",
              "      <th>target</th>\n",
              "      <th>var_0</th>\n",
              "      <th>var_1</th>\n",
              "      <th>var_2</th>\n",
              "      <th>var_3</th>\n",
              "      <th>var_4</th>\n",
              "      <th>var_5</th>\n",
              "      <th>var_6</th>\n",
              "      <th>...</th>\n",
              "      <th>var_40</th>\n",
              "      <th>var_41</th>\n",
              "      <th>var_42</th>\n",
              "      <th>var_43</th>\n",
              "      <th>var_44</th>\n",
              "      <th>var_45</th>\n",
              "      <th>var_46</th>\n",
              "      <th>var_47</th>\n",
              "      <th>var_48</th>\n",
              "      <th>var_49</th>\n",
              "    </tr>\n",
              "  </thead>\n",
              "  <tbody>\n",
              "    <tr>\n",
              "      <th>0</th>\n",
              "      <td>0</td>\n",
              "      <td>train_0</td>\n",
              "      <td>0</td>\n",
              "      <td>8.9255</td>\n",
              "      <td>-6.7863</td>\n",
              "      <td>11.9081</td>\n",
              "      <td>5.1187</td>\n",
              "      <td>5.7470</td>\n",
              "      <td>14.0137</td>\n",
              "      <td>0.5745</td>\n",
              "      <td>...</td>\n",
              "      <td>5.4879</td>\n",
              "      <td>-4.7645</td>\n",
              "      <td>3.1531</td>\n",
              "      <td>18.5618</td>\n",
              "      <td>1.7202</td>\n",
              "      <td>25.8398</td>\n",
              "      <td>4.4354</td>\n",
              "      <td>3.9642</td>\n",
              "      <td>3.1364</td>\n",
              "      <td>12.7803</td>\n",
              "    </tr>\n",
              "    <tr>\n",
              "      <th>1</th>\n",
              "      <td>1</td>\n",
              "      <td>train_1</td>\n",
              "      <td>0</td>\n",
              "      <td>11.5006</td>\n",
              "      <td>-4.1473</td>\n",
              "      <td>13.8588</td>\n",
              "      <td>5.6208</td>\n",
              "      <td>8.0851</td>\n",
              "      <td>14.0239</td>\n",
              "      <td>8.4135</td>\n",
              "      <td>...</td>\n",
              "      <td>5.7999</td>\n",
              "      <td>5.5378</td>\n",
              "      <td>5.5134</td>\n",
              "      <td>30.2645</td>\n",
              "      <td>11.0752</td>\n",
              "      <td>22.5441</td>\n",
              "      <td>7.6421</td>\n",
              "      <td>7.7214</td>\n",
              "      <td>2.5837</td>\n",
              "      <td>18.3560</td>\n",
              "    </tr>\n",
              "    <tr>\n",
              "      <th>2</th>\n",
              "      <td>2</td>\n",
              "      <td>train_2</td>\n",
              "      <td>0</td>\n",
              "      <td>8.6093</td>\n",
              "      <td>-2.7457</td>\n",
              "      <td>12.0805</td>\n",
              "      <td>6.9427</td>\n",
              "      <td>5.9525</td>\n",
              "      <td>14.1929</td>\n",
              "      <td>7.3124</td>\n",
              "      <td>...</td>\n",
              "      <td>5.7690</td>\n",
              "      <td>-7.0927</td>\n",
              "      <td>-5.8234</td>\n",
              "      <td>25.6820</td>\n",
              "      <td>2.4013</td>\n",
              "      <td>23.0866</td>\n",
              "      <td>2.9057</td>\n",
              "      <td>9.7905</td>\n",
              "      <td>1.6704</td>\n",
              "      <td>14.7222</td>\n",
              "    </tr>\n",
              "    <tr>\n",
              "      <th>3</th>\n",
              "      <td>3</td>\n",
              "      <td>train_3</td>\n",
              "      <td>0</td>\n",
              "      <td>11.0604</td>\n",
              "      <td>-2.1518</td>\n",
              "      <td>8.9522</td>\n",
              "      <td>5.8428</td>\n",
              "      <td>8.2450</td>\n",
              "      <td>13.8463</td>\n",
              "      <td>11.9704</td>\n",
              "      <td>...</td>\n",
              "      <td>5.3430</td>\n",
              "      <td>-7.1541</td>\n",
              "      <td>11.7134</td>\n",
              "      <td>14.7483</td>\n",
              "      <td>5.6961</td>\n",
              "      <td>-0.4639</td>\n",
              "      <td>4.4666</td>\n",
              "      <td>4.7433</td>\n",
              "      <td>0.7178</td>\n",
              "      <td>17.9697</td>\n",
              "    </tr>\n",
              "    <tr>\n",
              "      <th>4</th>\n",
              "      <td>4</td>\n",
              "      <td>train_4</td>\n",
              "      <td>0</td>\n",
              "      <td>9.8369</td>\n",
              "      <td>-1.4834</td>\n",
              "      <td>12.8746</td>\n",
              "      <td>5.9405</td>\n",
              "      <td>7.6784</td>\n",
              "      <td>13.8481</td>\n",
              "      <td>7.8895</td>\n",
              "      <td>...</td>\n",
              "      <td>5.5518</td>\n",
              "      <td>1.4493</td>\n",
              "      <td>2.3705</td>\n",
              "      <td>18.4685</td>\n",
              "      <td>5.1743</td>\n",
              "      <td>11.8503</td>\n",
              "      <td>-1.4905</td>\n",
              "      <td>9.5214</td>\n",
              "      <td>-0.1508</td>\n",
              "      <td>17.9974</td>\n",
              "    </tr>\n",
              "  </tbody>\n",
              "</table>\n",
              "<p>5 rows × 53 columns</p>\n",
              "</div>\n",
              "      <button class=\"colab-df-convert\" onclick=\"convertToInteractive('df-89eba40e-27f7-4e62-bf3c-cf706c883257')\"\n",
              "              title=\"Convert this dataframe to an interactive table.\"\n",
              "              style=\"display:none;\">\n",
              "        \n",
              "  <svg xmlns=\"http://www.w3.org/2000/svg\" height=\"24px\"viewBox=\"0 0 24 24\"\n",
              "       width=\"24px\">\n",
              "    <path d=\"M0 0h24v24H0V0z\" fill=\"none\"/>\n",
              "    <path d=\"M18.56 5.44l.94 2.06.94-2.06 2.06-.94-2.06-.94-.94-2.06-.94 2.06-2.06.94zm-11 1L8.5 8.5l.94-2.06 2.06-.94-2.06-.94L8.5 2.5l-.94 2.06-2.06.94zm10 10l.94 2.06.94-2.06 2.06-.94-2.06-.94-.94-2.06-.94 2.06-2.06.94z\"/><path d=\"M17.41 7.96l-1.37-1.37c-.4-.4-.92-.59-1.43-.59-.52 0-1.04.2-1.43.59L10.3 9.45l-7.72 7.72c-.78.78-.78 2.05 0 2.83L4 21.41c.39.39.9.59 1.41.59.51 0 1.02-.2 1.41-.59l7.78-7.78 2.81-2.81c.8-.78.8-2.07 0-2.86zM5.41 20L4 18.59l7.72-7.72 1.47 1.35L5.41 20z\"/>\n",
              "  </svg>\n",
              "      </button>\n",
              "      \n",
              "  <style>\n",
              "    .colab-df-container {\n",
              "      display:flex;\n",
              "      flex-wrap:wrap;\n",
              "      gap: 12px;\n",
              "    }\n",
              "\n",
              "    .colab-df-convert {\n",
              "      background-color: #E8F0FE;\n",
              "      border: none;\n",
              "      border-radius: 50%;\n",
              "      cursor: pointer;\n",
              "      display: none;\n",
              "      fill: #1967D2;\n",
              "      height: 32px;\n",
              "      padding: 0 0 0 0;\n",
              "      width: 32px;\n",
              "    }\n",
              "\n",
              "    .colab-df-convert:hover {\n",
              "      background-color: #E2EBFA;\n",
              "      box-shadow: 0px 1px 2px rgba(60, 64, 67, 0.3), 0px 1px 3px 1px rgba(60, 64, 67, 0.15);\n",
              "      fill: #174EA6;\n",
              "    }\n",
              "\n",
              "    [theme=dark] .colab-df-convert {\n",
              "      background-color: #3B4455;\n",
              "      fill: #D2E3FC;\n",
              "    }\n",
              "\n",
              "    [theme=dark] .colab-df-convert:hover {\n",
              "      background-color: #434B5C;\n",
              "      box-shadow: 0px 1px 3px 1px rgba(0, 0, 0, 0.15);\n",
              "      filter: drop-shadow(0px 1px 2px rgba(0, 0, 0, 0.3));\n",
              "      fill: #FFFFFF;\n",
              "    }\n",
              "  </style>\n",
              "\n",
              "      <script>\n",
              "        const buttonEl =\n",
              "          document.querySelector('#df-89eba40e-27f7-4e62-bf3c-cf706c883257 button.colab-df-convert');\n",
              "        buttonEl.style.display =\n",
              "          google.colab.kernel.accessAllowed ? 'block' : 'none';\n",
              "\n",
              "        async function convertToInteractive(key) {\n",
              "          const element = document.querySelector('#df-89eba40e-27f7-4e62-bf3c-cf706c883257');\n",
              "          const dataTable =\n",
              "            await google.colab.kernel.invokeFunction('convertToInteractive',\n",
              "                                                     [key], {});\n",
              "          if (!dataTable) return;\n",
              "\n",
              "          const docLinkHtml = 'Like what you see? Visit the ' +\n",
              "            '<a target=\"_blank\" href=https://colab.research.google.com/notebooks/data_table.ipynb>data table notebook</a>'\n",
              "            + ' to learn more about interactive tables.';\n",
              "          element.innerHTML = '';\n",
              "          dataTable['output_type'] = 'display_data';\n",
              "          await google.colab.output.renderOutput(dataTable, element);\n",
              "          const docLink = document.createElement('div');\n",
              "          docLink.innerHTML = docLinkHtml;\n",
              "          element.appendChild(docLink);\n",
              "        }\n",
              "      </script>\n",
              "    </div>\n",
              "  </div>\n",
              "  "
            ],
            "text/plain": [
              "   Unnamed: 0  ID_code  target    var_0   var_1    var_2   var_3   var_4  \\\n",
              "0           0  train_0       0   8.9255 -6.7863  11.9081  5.1187  5.7470   \n",
              "1           1  train_1       0  11.5006 -4.1473  13.8588  5.6208  8.0851   \n",
              "2           2  train_2       0   8.6093 -2.7457  12.0805  6.9427  5.9525   \n",
              "3           3  train_3       0  11.0604 -2.1518   8.9522  5.8428  8.2450   \n",
              "4           4  train_4       0   9.8369 -1.4834  12.8746  5.9405  7.6784   \n",
              "\n",
              "     var_5    var_6  ...  var_40  var_41   var_42   var_43   var_44   var_45  \\\n",
              "0  14.0137   0.5745  ...  5.4879 -4.7645   3.1531  18.5618   1.7202  25.8398   \n",
              "1  14.0239   8.4135  ...  5.7999  5.5378   5.5134  30.2645  11.0752  22.5441   \n",
              "2  14.1929   7.3124  ...  5.7690 -7.0927  -5.8234  25.6820   2.4013  23.0866   \n",
              "3  13.8463  11.9704  ...  5.3430 -7.1541  11.7134  14.7483   5.6961  -0.4639   \n",
              "4  13.8481   7.8895  ...  5.5518  1.4493   2.3705  18.4685   5.1743  11.8503   \n",
              "\n",
              "   var_46  var_47  var_48   var_49  \n",
              "0  4.4354  3.9642  3.1364  12.7803  \n",
              "1  7.6421  7.7214  2.5837  18.3560  \n",
              "2  2.9057  9.7905  1.6704  14.7222  \n",
              "3  4.4666  4.7433  0.7178  17.9697  \n",
              "4 -1.4905  9.5214 -0.1508  17.9974  \n",
              "\n",
              "[5 rows x 53 columns]"
            ]
          },
          "execution_count": 6,
          "metadata": {},
          "output_type": "execute_result"
        }
      ],
      "source": [
        "sales = pd.read_csv(train_path)"
      ]
    },
    {
      "cell_type": "code",
      "execution_count": null,
      "metadata": {
        "id": "4R84Sd5OwQV7"
      },
      "outputs": [],
      "source": [
        "#Copy\n",
        "sales_copy = sales.copy()"
      ]
    },
    {
      "cell_type": "markdown",
      "metadata": {
        "id": "J6ZuqUKzWnCe"
      },
      "source": [
        "##IDA intitial data analaysis"
      ]
    },
    {
      "cell_type": "code",
      "execution_count": null,
      "metadata": {
        "colab": {
          "base_uri": "https://localhost:8080/"
        },
        "id": "8T4izdnLX0pZ",
        "outputId": "6c48f399-ee5e-4602-f7c5-39c25d9fb75a"
      },
      "outputs": [
        {
          "data": {
            "text/plain": [
              "(180000, 53)"
            ]
          },
          "execution_count": 9,
          "metadata": {},
          "output_type": "execute_result"
        }
      ],
      "source": [
        "show_me()"
      ]
    },
    {
      "cell_type": "markdown",
      "metadata": {
        "id": "D-BUOVH4YFe_"
      },
      "source": [
        "From this initial data analysis I can see that there is a lot of data. 49 features and 18000 observations. the features use names that do not reveal anything usefull at this time. "
      ]
    },
    {
      "cell_type": "markdown",
      "metadata": {
        "id": "-fQQyyA6x6-Z"
      },
      "source": [
        "### Data Cleaning"
      ]
    },
    {
      "cell_type": "markdown",
      "metadata": {
        "id": "PuKJrwTeay3j"
      },
      "source": [
        "I am going to look for nulls and see if there are columns or rows I can drop"
      ]
    },
    {
      "cell_type": "markdown",
      "metadata": {
        "id": "fpm_dpwXcz0F"
      },
      "source": [
        "###One-hot encoding\n",
        "If there were any values that were not numerical I would need to convert them to a represenative number. "
      ]
    },
    {
      "cell_type": "markdown",
      "metadata": {
        "id": "vmr1hu7VaK-3"
      },
      "source": [
        "#EDA"
      ]
    },
    {
      "cell_type": "markdown",
      "metadata": {
        "id": "TRB2C325dqoe"
      },
      "source": [
        "##Making sense of the data\n"
      ]
    },
    {
      "cell_type": "markdown",
      "metadata": {
        "id": "DIVt0a2R_ru9"
      },
      "source": [
        "##down sampling"
      ]
    },
    {
      "cell_type": "markdown",
      "metadata": {
        "id": "HONm-NFcl6Ah"
      },
      "source": [
        "##Correlation"
      ]
    },
    {
      "cell_type": "markdown",
      "metadata": {
        "id": "pCmw1cuU8vX0"
      },
      "source": [
        "#Data Processing\n"
      ]
    },
    {
      "cell_type": "markdown",
      "metadata": {
        "id": "JTEgBhaM4NPg"
      },
      "source": [
        "### What kind of Model to use\n",
        "\n",
        "Reiterate the goal of you project:\n",
        "\n",
        "- project goal\n",
        "- project goal\n",
        "\n",
        "Split your target from features from your down sampling."
      ]
    },
    {
      "cell_type": "markdown",
      "metadata": {
        "id": "iQjg-kNt4Qus"
      },
      "source": [
        "###Cross-Validation\n",
        "Next we will store the accuracy results of the Model in a variable to record results."
      ]
    },
    {
      "cell_type": "markdown",
      "metadata": {
        "id": "_tNSB6A4QRTV"
      },
      "source": [
        "###Further Analysis\n",
        "\n",
        "If you need a further analysis enter it here."
      ]
    },
    {
      "cell_type": "markdown",
      "metadata": {
        "id": "qXQCnoS1WO88"
      },
      "source": [
        "# Conclusion\n",
        "\n"
      ]
    },
    {
      "cell_type": "markdown",
      "metadata": {
        "id": "NcnWpGmkf7pU"
      },
      "source": [
        "##Key Takeaways:\n"
      ]
    },
    {
      "cell_type": "markdown",
      "metadata": {
        "id": "3GmBVfJugEPh"
      },
      "source": [
        "##Model Performance\n"
      ]
    },
    {
      "cell_type": "markdown",
      "metadata": {
        "id": "IldfwP_1f9U2"
      },
      "source": [
        "##Future exploration/ Next steps\n",
        "\n",
        "Give yourself a stopping point and write down possible further next steps \n",
        "\n"
      ]
    }
  ],
  "metadata": {
    "colab": {
      "provenance": [],
      "toc_visible": true,
      "include_colab_link": true
    },
    "kernelspec": {
      "display_name": "Python 3",
      "name": "python3"
    },
    "language_info": {
      "name": "python"
    }
  },
  "nbformat": 4,
  "nbformat_minor": 0
}